{
 "cells": [
  {
   "cell_type": "code",
   "execution_count": 1,
   "metadata": {},
   "outputs": [
    {
     "name": "stdout",
     "output_type": "stream",
     "text": [
      "Requirement already satisfied: anthropic in /Users/jayyanar/anaconda3/lib/python3.11/site-packages (0.25.1)\n",
      "Requirement already satisfied: anyio<5,>=3.5.0 in /Users/jayyanar/anaconda3/lib/python3.11/site-packages (from anthropic) (3.5.0)\n",
      "Requirement already satisfied: distro<2,>=1.7.0 in /Users/jayyanar/anaconda3/lib/python3.11/site-packages (from anthropic) (1.9.0)\n",
      "Requirement already satisfied: httpx<1,>=0.23.0 in /Users/jayyanar/anaconda3/lib/python3.11/site-packages (from anthropic) (0.25.2)\n",
      "Requirement already satisfied: pydantic<3,>=1.9.0 in /Users/jayyanar/anaconda3/lib/python3.11/site-packages (from anthropic) (1.10.8)\n",
      "Requirement already satisfied: sniffio in /Users/jayyanar/anaconda3/lib/python3.11/site-packages (from anthropic) (1.2.0)\n",
      "Requirement already satisfied: tokenizers>=0.13.0 in /Users/jayyanar/anaconda3/lib/python3.11/site-packages (from anthropic) (0.13.3)\n",
      "Requirement already satisfied: typing-extensions<5,>=4.7 in /Users/jayyanar/anaconda3/lib/python3.11/site-packages (from anthropic) (4.9.0)\n",
      "Requirement already satisfied: idna>=2.8 in /Users/jayyanar/anaconda3/lib/python3.11/site-packages (from anyio<5,>=3.5.0->anthropic) (3.4)\n",
      "Requirement already satisfied: certifi in /Users/jayyanar/anaconda3/lib/python3.11/site-packages (from httpx<1,>=0.23.0->anthropic) (2023.7.22)\n",
      "Requirement already satisfied: httpcore==1.* in /Users/jayyanar/anaconda3/lib/python3.11/site-packages (from httpx<1,>=0.23.0->anthropic) (1.0.2)\n",
      "Requirement already satisfied: h11<0.15,>=0.13 in /Users/jayyanar/anaconda3/lib/python3.11/site-packages (from httpcore==1.*->httpx<1,>=0.23.0->anthropic) (0.14.0)\n",
      "Note: you may need to restart the kernel to use updated packages.\n"
     ]
    }
   ],
   "source": [
    "%pip install anthropic --upgrade"
   ]
  },
  {
   "cell_type": "markdown",
   "metadata": {},
   "source": [
    "## Step 1: Set up the Environment\n",
    "## Description: Install the required libraries and set up the Anthropic API client."
   ]
  },
  {
   "cell_type": "code",
   "execution_count": 3,
   "metadata": {},
   "outputs": [],
   "source": [
    "import anthropic\n",
    "\n",
    "client = anthropic.Client()\n",
    "MODEL_NAME = \"claude-3-opus-20240229\""
   ]
  },
  {
   "cell_type": "markdown",
   "metadata": {},
   "source": [
    "## Step 2: Define the Client-side Tools\n",
    "\n",
    "### Description\n",
    "Define the tools that the chatbot will use to assist customers, such as checking availability and booking vacations.\n",
    "\n",
    "### Input Parameters\n",
    "- **destination:** The destination for the vacation package (e.g., \"Maldives\").\n",
    "- **dates:** The dates for the vacation package in YYYY-MM-DD format.\n",
    "- **customer_name:** The name of the customer making the booking.\n",
    "- **email:** The email address of the customer.\n",
    "- **phone:** The phone number of the customer."
   ]
  },
  {
   "cell_type": "code",
   "execution_count": 12,
   "metadata": {},
   "outputs": [],
   "source": [
    "# Step 2: Define the client-side tools\n",
    "tools = [\n",
    "    {\n",
    "        \"name\": \"check_availability\",\n",
    "        \"description\": \"Checks the availability of vacation packages for the given destination and dates.\",\n",
    "        \"input_schema\": {\n",
    "            \"type\": \"object\",\n",
    "            \"properties\": {\n",
    "                \"destination\": {\n",
    "                    \"type\": \"string\",\n",
    "                    \"description\": \"The destination for the vacation package (e.g., 'Maldives').\"\n",
    "                },\n",
    "                \"dates\": {\n",
    "                    \"type\": \"string\",\n",
    "                    \"description\": \"The dates for the vacation package in YYYY-MM-DD format.\"\n",
    "                }\n",
    "            },\n",
    "            \"required\": [\"destination\", \"dates\"]\n",
    "        }\n",
    "    },\n",
    "    {\n",
    "        \"name\": \"book_vacation\",\n",
    "        \"description\": \"Books a vacation package for the given destination and dates.\",\n",
    "        \"input_schema\": {\n",
    "            \"type\": \"object\",\n",
    "            \"properties\": {\n",
    "                \"destination\": {\n",
    "                    \"type\": \"string\",\n",
    "                    \"description\": \"The destination for the vacation package (e.g., 'Maldives').\"\n",
    "                },\n",
    "                \"dates\": {\n",
    "                    \"type\": \"string\",\n",
    "                    \"description\": \"The dates for the vacation package in YYYY-MM-DD format.\"\n",
    "                },\n",
    "                \"customer_name\": {\n",
    "                    \"type\": \"string\",\n",
    "                    \"description\": \"The name of the customer making the booking.\"\n",
    "                },\n",
    "                \"email\": {\n",
    "                    \"type\": \"string\",\n",
    "                    \"format\": \"email\",\n",
    "                    \"description\": \"The email address of the customer.\"\n",
    "                },\n",
    "                \"phone\": {\n",
    "                    \"type\": \"string\",\n",
    "                    \"description\": \"The phone number of the customer.\"\n",
    "                }\n",
    "            },\n",
    "            \"required\": [\"destination\", \"dates\", \"customer_name\", \"email\", \"phone\"]\n",
    "        }\n",
    "    }\n",
    "]\n"
   ]
  },
  {
   "cell_type": "markdown",
   "metadata": {},
   "source": [
    "## Step 3: Simulate Synthetic Tool Responses\n",
    "\n",
    "### Description\n",
    "Simulate responses for the tools to mimic real-world interactions with booking systems and databases.\n",
    "\n",
    "### Functions\n",
    "- **check_availability:** Simulates availability checks for different destinations and dates.\n",
    "- **book_vacation:** Simulates the booking process for available vacation packages."
   ]
  },
  {
   "cell_type": "code",
   "execution_count": 13,
   "metadata": {},
   "outputs": [],
   "source": [
    "# Step 3: Simulate synthetic tool responses\n",
    "def check_availability(destination, dates):\n",
    "    # Simulated availability check\n",
    "    if destination.lower() == \"maldives\" and dates == \"2024-07-01\":\n",
    "        return True\n",
    "    elif destination.lower() == \"bahamas\" and dates == \"2024-08-15\":\n",
    "        return True\n",
    "    else:\n",
    "        return False\n",
    "\n",
    "def book_vacation(destination, dates, customer_name, email, phone):\n",
    "    # Simulated booking process\n",
    "    if destination.lower() == \"maldives\" and dates == \"2024-07-01\":\n",
    "        booking_id = \"BWV123\"  # Example booking ID\n",
    "        return {\"booking_id\": booking_id}\n",
    "    elif destination.lower() == \"bahamas\" and dates == \"2024-08-15\":\n",
    "        booking_id = \"BWV456\"  # Example booking ID\n",
    "        return {\"booking_id\": booking_id}\n",
    "    else:\n",
    "        return \"Booking failed due to unavailable dates or destination.\""
   ]
  },
  {
   "cell_type": "markdown",
   "metadata": {},
   "source": [
    "## Step 4: Process Tool Calls and Return Results\n",
    "\n",
    "### Description\n",
    "Create a function to process tool calls made by the chatbot and return the appropriate results.\n",
    "\n",
    "### Function\n",
    "- **process_tool_call:** Processes tool calls and returns results based on the input parameters.\n"
   ]
  },
  {
   "cell_type": "code",
   "execution_count": null,
   "metadata": {},
   "outputs": [],
   "source": [
    "# Step 4: Process tool calls and return results\n",
    "def process_tool_call(tool_name, tool_input):\n",
    "    if tool_name == \"check_availability\":\n",
    "        return check_availability(tool_input[\"destination\"], tool_input[\"dates\"])\n",
    "    elif tool_name == \"book_vacation\":\n",
    "        return book_vacation(tool_input[\"destination\"], tool_input[\"dates\"], tool_input[\"customer_name\"], tool_input[\"email\"], tool_input[\"phone\"])"
   ]
  },
  {
   "cell_type": "markdown",
   "metadata": {},
   "source": [
    "## Step 5: Interact with the Chatbot\n",
    "\n",
    "### Description\n",
    "Implement the interaction with the chatbot, where users can request to book holiday vacations.\n",
    "\n",
    "### Function\n",
    "- **book_holiday_vacation:** Initiates the conversation with the chatbot and handles tool calls and responses.\n"
   ]
  },
  {
   "cell_type": "code",
   "execution_count": 16,
   "metadata": {},
   "outputs": [],
   "source": [
    "# Step 5: Interact with the chatbot\n",
    "import json\n",
    "\n",
    "def book_holiday_vacation(destination, dates, customer_name, email, phone):\n",
    "    print(f\"\\n{'='*50}\\nBooking Holiday Vacation to {destination}\\n{'='*50}\")\n",
    "\n",
    "    messages = [\n",
    "        {\"role\": \"user\", \"content\": f\"I'd like to book a holiday vacation to {destination} from {dates} with Bluewave Holidays.\"}\n",
    "    ]\n",
    "\n",
    "    response = client.beta.tools.messages.create(\n",
    "        model=MODEL_NAME,\n",
    "        max_tokens=4096,\n",
    "        tools=tools,\n",
    "        messages=messages\n",
    "    )\n",
    "\n",
    "    print(f\"\\nInitial Response:\")\n",
    "    print(f\"Stop Reason: {response.stop_reason}\")\n",
    "    print(f\"Content: {response.content}\")\n",
    "\n",
    "    while response.stop_reason == \"tool_use\":\n",
    "        tool_use = next(block for block in response.content if block.type == \"tool_use\")\n",
    "        tool_name = tool_use.name\n",
    "        tool_input = tool_use.input\n",
    "\n",
    "        print(f\"\\nTool Used: {tool_name}\")\n",
    "        print(f\"Tool Input:\")\n",
    "        print(json.dumps(tool_input, indent=2))\n",
    "\n",
    "        tool_result = process_tool_call(tool_name, tool_input)\n",
    "\n",
    "        print(f\"\\nTool Result:\")\n",
    "        print(json.dumps(tool_result, indent=2))\n",
    "\n",
    "        messages = [\n",
    "            {\"role\": \"user\", \"content\": f\"I'd like to book a holiday vacation to {destination} from {dates} with Bluewave Holidays.\"},\n",
    "            {\n",
    "                \"role\": \"user\",\n",
    "                \"content\": [\n",
    "                    {\n",
    "                        \"type\": \"tool_result\",\n",
    "                        \"tool_use_id\": tool_use.id,\n",
    "                        \"content\": str(tool_result),\n",
    "                    }\n",
    "                ],\n",
    "            },\n",
    "        ]\n",
    "\n",
    "        response = client.beta.tools.messages.create(\n",
    "            model=MODEL_NAME,\n",
    "            max_tokens=4096,\n",
    "            tools=tools,\n",
    "            messages=messages\n",
    "        )\n",
    "\n",
    "        print(f\"\\nResponse:\")\n",
    "        print(f\"Stop Reason: {response.stop_reason}\")\n",
    "        print(f\"Content: {response.content}\")\n",
    "\n",
    "    final_response = next(\n",
    "        (block.text for block in response.content if hasattr(block, \"text\")),\n",
    "        None,\n",
    "    )\n",
    "\n",
    "    print(f\"\\nFinal Response: {final_response}\")\n",
    "\n",
    "    return final_response"
   ]
  },
  {
   "cell_type": "markdown",
   "metadata": {},
   "source": [
    "## Step 6: Test Booking the Holiday Vacation\n",
    "\n",
    "### Description\n",
    "Test the functionality of the chatbot by booking holiday vacations to different destinations.\n",
    "\n",
    "### Example Calls\n",
    "- `book_holiday_vacation(\"Maldives\", \"2024-07-01\", \"John Doe\", \"john@example.com\", \"123-456-7890\")`\n",
    "- `book_holiday_vacation(\"Bahamas\", \"2024-08-15\", \"Jane Smith\", \"jane@example.com\", \"987-654-3210\")`\n"
   ]
  },
  {
   "cell_type": "code",
   "execution_count": 17,
   "metadata": {},
   "outputs": [
    {
     "name": "stdout",
     "output_type": "stream",
     "text": [
      "\n",
      "==================================================\n",
      "Booking Holiday Vacation to Maldives\n",
      "==================================================\n",
      "\n",
      "Initial Response:\n",
      "Stop Reason: end_turn\n",
      "Content: [TextBlock(text='<thinking>\\nBased on the user\\'s request, the relevant tool is book_vacation. This function requires the following parameters:\\n\\nRequired parameters:\\n- destination: The user specified \"Maldives\"\\n- dates: The user provided \"2024-07-01\", but this is only a single date. We would need a date range to book the vacation.\\n- customer_name: Not provided \\n- email: Not provided\\n- phone: Not provided\\n\\nThe destination and a start date were provided, but we are missing the end date, customer name, email and phone number which are all required to book the vacation.\\n</thinking>\\n\\nTo book your vacation to the Maldives, I will need some additional information:\\n\\n- The end date for your trip (you provided a start date of 2024-07-01 but I need to know what day you plan to return)\\n- Your full name \\n- Your email address\\n- Your phone number\\n\\nPlease provide those details and I\\'ll be happy to complete the booking for your Maldives vacation!', type='text')]\n",
      "\n",
      "Final Response: <thinking>\n",
      "Based on the user's request, the relevant tool is book_vacation. This function requires the following parameters:\n",
      "\n",
      "Required parameters:\n",
      "- destination: The user specified \"Maldives\"\n",
      "- dates: The user provided \"2024-07-01\", but this is only a single date. We would need a date range to book the vacation.\n",
      "- customer_name: Not provided \n",
      "- email: Not provided\n",
      "- phone: Not provided\n",
      "\n",
      "The destination and a start date were provided, but we are missing the end date, customer name, email and phone number which are all required to book the vacation.\n",
      "</thinking>\n",
      "\n",
      "To book your vacation to the Maldives, I will need some additional information:\n",
      "\n",
      "- The end date for your trip (you provided a start date of 2024-07-01 but I need to know what day you plan to return)\n",
      "- Your full name \n",
      "- Your email address\n",
      "- Your phone number\n",
      "\n",
      "Please provide those details and I'll be happy to complete the booking for your Maldives vacation!\n",
      "\n",
      "==================================================\n",
      "Booking Holiday Vacation to Bahamas\n",
      "==================================================\n",
      "\n",
      "Initial Response:\n",
      "Stop Reason: end_turn\n",
      "Content: [TextBlock(text='<thinking>\\nThe user has requested to book a holiday vacation package to Bahamas starting from 2024-08-15. \\n\\nThe relevant tool to use for this request is book_vacation, which requires the following parameters:\\n- destination (provided by user - \"Bahamas\") \\n- dates (provided by user - \"2024-08-15\", but end date is missing)\\n- customer_name (not provided by user)\\n- email (not provided by user)\\n- phone (not provided by user)\\n\\nSince the end date and several other required parameters for booking are missing, I cannot proceed with calling the book_vacation function yet. I need to ask the user to provide the missing information before I can book their vacation package.\\n</thinking>\\n\\nTo book your Bahamas vacation, I will need some additional information:\\n\\n- What is the end date of your trip? You provided the start date of 2024-08-15 but I also need to know when you plan to return.\\n- What is your full name for the booking? \\n- What is your email address?\\n- What is your phone number?\\n\\nOnce you provide those details, I\\'ll be happy to complete your Bahamas vacation booking with Bluewave Holidays. Let me know if you need anything else!', type='text')]\n",
      "\n",
      "Final Response: <thinking>\n",
      "The user has requested to book a holiday vacation package to Bahamas starting from 2024-08-15. \n",
      "\n",
      "The relevant tool to use for this request is book_vacation, which requires the following parameters:\n",
      "- destination (provided by user - \"Bahamas\") \n",
      "- dates (provided by user - \"2024-08-15\", but end date is missing)\n",
      "- customer_name (not provided by user)\n",
      "- email (not provided by user)\n",
      "- phone (not provided by user)\n",
      "\n",
      "Since the end date and several other required parameters for booking are missing, I cannot proceed with calling the book_vacation function yet. I need to ask the user to provide the missing information before I can book their vacation package.\n",
      "</thinking>\n",
      "\n",
      "To book your Bahamas vacation, I will need some additional information:\n",
      "\n",
      "- What is the end date of your trip? You provided the start date of 2024-08-15 but I also need to know when you plan to return.\n",
      "- What is your full name for the booking? \n",
      "- What is your email address?\n",
      "- What is your phone number?\n",
      "\n",
      "Once you provide those details, I'll be happy to complete your Bahamas vacation booking with Bluewave Holidays. Let me know if you need anything else!\n"
     ]
    },
    {
     "data": {
      "text/plain": [
       "'<thinking>\\nThe user has requested to book a holiday vacation package to Bahamas starting from 2024-08-15. \\n\\nThe relevant tool to use for this request is book_vacation, which requires the following parameters:\\n- destination (provided by user - \"Bahamas\") \\n- dates (provided by user - \"2024-08-15\", but end date is missing)\\n- customer_name (not provided by user)\\n- email (not provided by user)\\n- phone (not provided by user)\\n\\nSince the end date and several other required parameters for booking are missing, I cannot proceed with calling the book_vacation function yet. I need to ask the user to provide the missing information before I can book their vacation package.\\n</thinking>\\n\\nTo book your Bahamas vacation, I will need some additional information:\\n\\n- What is the end date of your trip? You provided the start date of 2024-08-15 but I also need to know when you plan to return.\\n- What is your full name for the booking? \\n- What is your email address?\\n- What is your phone number?\\n\\nOnce you provide those details, I\\'ll be happy to complete your Bahamas vacation booking with Bluewave Holidays. Let me know if you need anything else!'"
      ]
     },
     "execution_count": 17,
     "metadata": {},
     "output_type": "execute_result"
    }
   ],
   "source": [
    "# Step 6: Test booking the holiday vacation\n",
    "book_holiday_vacation(\"Maldives\", \"2024-07-01\", \"John Doe\", \"john@example.com\", \"123-456-7890\")\n",
    "book_holiday_vacation(\"Bahamas\", \"2024-08-15\", \"Jane Smith\", \"jane@example.com\", \"987-654-3210\")"
   ]
  },
  {
   "cell_type": "code",
   "execution_count": null,
   "metadata": {},
   "outputs": [],
   "source": []
  }
 ],
 "metadata": {
  "kernelspec": {
   "display_name": "Python 3",
   "language": "python",
   "name": "python3"
  },
  "language_info": {
   "codemirror_mode": {
    "name": "ipython",
    "version": 3
   },
   "file_extension": ".py",
   "mimetype": "text/x-python",
   "name": "python",
   "nbconvert_exporter": "python",
   "pygments_lexer": "ipython3",
   "version": "3.11.5"
  }
 },
 "nbformat": 4,
 "nbformat_minor": 2
}
